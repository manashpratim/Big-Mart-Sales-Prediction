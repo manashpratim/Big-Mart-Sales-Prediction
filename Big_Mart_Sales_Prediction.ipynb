{
  "nbformat": 4,
  "nbformat_minor": 0,
  "metadata": {
    "colab": {
      "name": " Big Mart Sales Prediction.ipynb",
      "version": "0.3.2",
      "provenance": [],
      "collapsed_sections": [],
      "include_colab_link": true
    },
    "kernelspec": {
      "name": "python3",
      "display_name": "Python 3"
    },
    "accelerator": "GPU"
  },
  "cells": [
    {
      "cell_type": "markdown",
      "metadata": {
        "id": "view-in-github",
        "colab_type": "text"
      },
      "source": [
        "<a href=\"https://colab.research.google.com/github/manashpratim/Big-Mart-Sales-Prediction/blob/master/Big_Mart_Sales_Prediction.ipynb\" target=\"_parent\"><img src=\"https://colab.research.google.com/assets/colab-badge.svg\" alt=\"Open In Colab\"/></a>"
      ]
    },
    {
      "cell_type": "code",
      "metadata": {
        "id": "qDXaPECnhgwT",
        "colab_type": "code",
        "outputId": "342d31b5-33c8-4299-8bc8-fdadd9e7e423",
        "colab": {
          "base_uri": "https://localhost:8080/",
          "height": 421
        }
      },
      "source": [
        "#Downloading the datasets\n",
        "!wget --no-check-certificate \\\n",
        "      \"https://datahack-prod.s3.amazonaws.com/train_file/Train_UWu5bXk.csv\"\\\n",
        "      -O \"/tmp/train.csv\"\n",
        "\n",
        "\n",
        "!wget --no-check-certificate \\\n",
        "      \"https://datahack-prod.s3.amazonaws.com/test_file/Test_u94Q5KV.csv\"\\\n",
        "      -O \"/tmp/test.csv\""
      ],
      "execution_count": 1,
      "outputs": [
        {
          "output_type": "stream",
          "text": [
            "--2019-07-11 16:47:40--  https://datahack-prod.s3.amazonaws.com/train_file/Train_UWu5bXk.csv\n",
            "Resolving datahack-prod.s3.amazonaws.com (datahack-prod.s3.amazonaws.com)... 52.219.66.56\n",
            "Connecting to datahack-prod.s3.amazonaws.com (datahack-prod.s3.amazonaws.com)|52.219.66.56|:443... connected.\n",
            "HTTP request sent, awaiting response... 200 OK\n",
            "Length: 869537 (849K) [text/plain]\n",
            "Saving to: ‘/tmp/train.csv’\n",
            "\n",
            "\r/tmp/train.csv        0%[                    ]       0  --.-KB/s               \r/tmp/train.csv       30%[=====>              ] 262.45K  1.08MB/s               \r/tmp/train.csv      100%[===================>] 849.16K  2.79MB/s    in 0.3s    \n",
            "\n",
            "2019-07-11 16:47:40 (2.79 MB/s) - ‘/tmp/train.csv’ saved [869537/869537]\n",
            "\n",
            "--2019-07-11 16:47:43--  https://datahack-prod.s3.amazonaws.com/test_file/Test_u94Q5KV.csv\n",
            "Resolving datahack-prod.s3.amazonaws.com (datahack-prod.s3.amazonaws.com)... 52.219.66.56\n",
            "Connecting to datahack-prod.s3.amazonaws.com (datahack-prod.s3.amazonaws.com)|52.219.66.56|:443... connected.\n",
            "HTTP request sent, awaiting response... 200 OK\n",
            "Length: 527709 (515K) [text/plain]\n",
            "Saving to: ‘/tmp/test.csv’\n",
            "\n",
            "/tmp/test.csv       100%[===================>] 515.34K  2.11MB/s    in 0.2s    \n",
            "\n",
            "2019-07-11 16:47:43 (2.11 MB/s) - ‘/tmp/test.csv’ saved [527709/527709]\n",
            "\n"
          ],
          "name": "stdout"
        }
      ]
    },
    {
      "cell_type": "code",
      "metadata": {
        "id": "7sIHaN1zjLI6",
        "colab_type": "code",
        "colab": {}
      },
      "source": [
        "import pandas as pd\n",
        "df1=pd.read_csv('/tmp/train.csv') #loading the train set\n",
        "df2=pd.read_csv('/tmp/test.csv')  #loading the test set"
      ],
      "execution_count": 0,
      "outputs": []
    },
    {
      "cell_type": "code",
      "metadata": {
        "id": "k-apLbQLjo69",
        "colab_type": "code",
        "outputId": "31214031-2307-4abd-bd85-2474c38af936",
        "colab": {
          "base_uri": "https://localhost:8080/",
          "height": 216
        }
      },
      "source": [
        "df1.head(3)"
      ],
      "execution_count": 3,
      "outputs": [
        {
          "output_type": "execute_result",
          "data": {
            "text/html": [
              "<div>\n",
              "<style scoped>\n",
              "    .dataframe tbody tr th:only-of-type {\n",
              "        vertical-align: middle;\n",
              "    }\n",
              "\n",
              "    .dataframe tbody tr th {\n",
              "        vertical-align: top;\n",
              "    }\n",
              "\n",
              "    .dataframe thead th {\n",
              "        text-align: right;\n",
              "    }\n",
              "</style>\n",
              "<table border=\"1\" class=\"dataframe\">\n",
              "  <thead>\n",
              "    <tr style=\"text-align: right;\">\n",
              "      <th></th>\n",
              "      <th>Item_Identifier</th>\n",
              "      <th>Item_Weight</th>\n",
              "      <th>Item_Fat_Content</th>\n",
              "      <th>Item_Visibility</th>\n",
              "      <th>Item_Type</th>\n",
              "      <th>Item_MRP</th>\n",
              "      <th>Outlet_Identifier</th>\n",
              "      <th>Outlet_Establishment_Year</th>\n",
              "      <th>Outlet_Size</th>\n",
              "      <th>Outlet_Location_Type</th>\n",
              "      <th>Outlet_Type</th>\n",
              "      <th>Item_Outlet_Sales</th>\n",
              "    </tr>\n",
              "  </thead>\n",
              "  <tbody>\n",
              "    <tr>\n",
              "      <th>0</th>\n",
              "      <td>FDA15</td>\n",
              "      <td>9.30</td>\n",
              "      <td>Low Fat</td>\n",
              "      <td>0.016047</td>\n",
              "      <td>Dairy</td>\n",
              "      <td>249.8092</td>\n",
              "      <td>OUT049</td>\n",
              "      <td>1999</td>\n",
              "      <td>Medium</td>\n",
              "      <td>Tier 1</td>\n",
              "      <td>Supermarket Type1</td>\n",
              "      <td>3735.1380</td>\n",
              "    </tr>\n",
              "    <tr>\n",
              "      <th>1</th>\n",
              "      <td>DRC01</td>\n",
              "      <td>5.92</td>\n",
              "      <td>Regular</td>\n",
              "      <td>0.019278</td>\n",
              "      <td>Soft Drinks</td>\n",
              "      <td>48.2692</td>\n",
              "      <td>OUT018</td>\n",
              "      <td>2009</td>\n",
              "      <td>Medium</td>\n",
              "      <td>Tier 3</td>\n",
              "      <td>Supermarket Type2</td>\n",
              "      <td>443.4228</td>\n",
              "    </tr>\n",
              "    <tr>\n",
              "      <th>2</th>\n",
              "      <td>FDN15</td>\n",
              "      <td>17.50</td>\n",
              "      <td>Low Fat</td>\n",
              "      <td>0.016760</td>\n",
              "      <td>Meat</td>\n",
              "      <td>141.6180</td>\n",
              "      <td>OUT049</td>\n",
              "      <td>1999</td>\n",
              "      <td>Medium</td>\n",
              "      <td>Tier 1</td>\n",
              "      <td>Supermarket Type1</td>\n",
              "      <td>2097.2700</td>\n",
              "    </tr>\n",
              "  </tbody>\n",
              "</table>\n",
              "</div>"
            ],
            "text/plain": [
              "  Item_Identifier  Item_Weight  ...        Outlet_Type  Item_Outlet_Sales\n",
              "0           FDA15         9.30  ...  Supermarket Type1          3735.1380\n",
              "1           DRC01         5.92  ...  Supermarket Type2           443.4228\n",
              "2           FDN15        17.50  ...  Supermarket Type1          2097.2700\n",
              "\n",
              "[3 rows x 12 columns]"
            ]
          },
          "metadata": {
            "tags": []
          },
          "execution_count": 3
        }
      ]
    },
    {
      "cell_type": "code",
      "metadata": {
        "id": "kcTh_VSskAGl",
        "colab_type": "code",
        "outputId": "716c5ded-ceb3-4b24-ec9a-6a1de3588e52",
        "colab": {
          "base_uri": "https://localhost:8080/",
          "height": 256
        }
      },
      "source": [
        "# Checking Null values in Train Set\n",
        "df1.isnull().sum()"
      ],
      "execution_count": 4,
      "outputs": [
        {
          "output_type": "execute_result",
          "data": {
            "text/plain": [
              "Item_Identifier                 0\n",
              "Item_Weight                  1463\n",
              "Item_Fat_Content                0\n",
              "Item_Visibility                 0\n",
              "Item_Type                       0\n",
              "Item_MRP                        0\n",
              "Outlet_Identifier               0\n",
              "Outlet_Establishment_Year       0\n",
              "Outlet_Size                  2410\n",
              "Outlet_Location_Type            0\n",
              "Outlet_Type                     0\n",
              "Item_Outlet_Sales               0\n",
              "dtype: int64"
            ]
          },
          "metadata": {
            "tags": []
          },
          "execution_count": 4
        }
      ]
    },
    {
      "cell_type": "code",
      "metadata": {
        "id": "Bt13zF_ekfCH",
        "colab_type": "code",
        "outputId": "3f5b1253-ec75-492e-c56c-6525e4828f57",
        "colab": {
          "base_uri": "https://localhost:8080/",
          "height": 237
        }
      },
      "source": [
        "# Checking Null values in Test Set\n",
        "df2.isnull().sum()"
      ],
      "execution_count": 5,
      "outputs": [
        {
          "output_type": "execute_result",
          "data": {
            "text/plain": [
              "Item_Identifier                 0\n",
              "Item_Weight                   976\n",
              "Item_Fat_Content                0\n",
              "Item_Visibility                 0\n",
              "Item_Type                       0\n",
              "Item_MRP                        0\n",
              "Outlet_Identifier               0\n",
              "Outlet_Establishment_Year       0\n",
              "Outlet_Size                  1606\n",
              "Outlet_Location_Type            0\n",
              "Outlet_Type                     0\n",
              "dtype: int64"
            ]
          },
          "metadata": {
            "tags": []
          },
          "execution_count": 5
        }
      ]
    },
    {
      "cell_type": "code",
      "metadata": {
        "id": "smVao9LEkqhM",
        "colab_type": "code",
        "colab": {}
      },
      "source": [
        "#Filling the Null values in 'Item_Weight' column with the average weight \n",
        "df1['Item_Weight'].fillna(value=df1['Item_Weight'].mean(),inplace=True)\n",
        "df2['Item_Weight'].fillna(value=df2['Item_Weight'].mean(),inplace=True)\n",
        "\n",
        "#Filling the Null values in 'Outlet_Size' column with \"Unknown\"\n",
        "df1['Outlet_Size'].fillna(value='Unknown',inplace=True)\n",
        "df2['Outlet_Size'].fillna(value='Unknown',inplace=True)"
      ],
      "execution_count": 0,
      "outputs": []
    },
    {
      "cell_type": "code",
      "metadata": {
        "id": "KDXRTgxbnQ8O",
        "colab_type": "code",
        "outputId": "f6ceede1-3764-458a-d6ad-9dfe56297028",
        "colab": {
          "base_uri": "https://localhost:8080/",
          "height": 256
        }
      },
      "source": [
        "#Checking the Null values in Train set\n",
        "df1.isnull().sum()"
      ],
      "execution_count": 7,
      "outputs": [
        {
          "output_type": "execute_result",
          "data": {
            "text/plain": [
              "Item_Identifier              0\n",
              "Item_Weight                  0\n",
              "Item_Fat_Content             0\n",
              "Item_Visibility              0\n",
              "Item_Type                    0\n",
              "Item_MRP                     0\n",
              "Outlet_Identifier            0\n",
              "Outlet_Establishment_Year    0\n",
              "Outlet_Size                  0\n",
              "Outlet_Location_Type         0\n",
              "Outlet_Type                  0\n",
              "Item_Outlet_Sales            0\n",
              "dtype: int64"
            ]
          },
          "metadata": {
            "tags": []
          },
          "execution_count": 7
        }
      ]
    },
    {
      "cell_type": "code",
      "metadata": {
        "id": "zZwaOI6Tn-w5",
        "colab_type": "code",
        "outputId": "b536c509-4152-4bea-ba73-f12d325e987e",
        "colab": {
          "base_uri": "https://localhost:8080/",
          "height": 237
        }
      },
      "source": [
        "#Checking the Null values in Test set\n",
        "df2.isnull().sum()"
      ],
      "execution_count": 8,
      "outputs": [
        {
          "output_type": "execute_result",
          "data": {
            "text/plain": [
              "Item_Identifier              0\n",
              "Item_Weight                  0\n",
              "Item_Fat_Content             0\n",
              "Item_Visibility              0\n",
              "Item_Type                    0\n",
              "Item_MRP                     0\n",
              "Outlet_Identifier            0\n",
              "Outlet_Establishment_Year    0\n",
              "Outlet_Size                  0\n",
              "Outlet_Location_Type         0\n",
              "Outlet_Type                  0\n",
              "dtype: int64"
            ]
          },
          "metadata": {
            "tags": []
          },
          "execution_count": 8
        }
      ]
    },
    {
      "cell_type": "code",
      "metadata": {
        "id": "txnDsh-5sRyX",
        "colab_type": "code",
        "outputId": "a4135594-d838-450e-c6f7-3fd6ebcd6111",
        "colab": {
          "base_uri": "https://localhost:8080/",
          "height": 727
        }
      },
      "source": [
        "df1['Item_Type'].value_counts()\n",
        "import numpy as np\n",
        "import matplotlib.pyplot as plt\n",
        "plt.bar(df1['Item_Type'].value_counts().index, df1['Item_Type'].value_counts(), width=0.5, bottom=None, align='center', data=df1)\n",
        "plt.title('Item_Type Distribution')\n",
        "plt.xticks(rotation='vertical')\n",
        "plt.xlabel('Item_Type')\n",
        "plt.ylabel('Frequency')\n",
        "print('Item_Type:\\n',df1['Item_Type'].value_counts())"
      ],
      "execution_count": 9,
      "outputs": [
        {
          "output_type": "stream",
          "text": [
            "Item_Type:\n",
            " Fruits and Vegetables    1232\n",
            "Snack Foods              1200\n",
            "Household                 910\n",
            "Frozen Foods              856\n",
            "Dairy                     682\n",
            "Canned                    649\n",
            "Baking Goods              648\n",
            "Health and Hygiene        520\n",
            "Soft Drinks               445\n",
            "Meat                      425\n",
            "Breads                    251\n",
            "Hard Drinks               214\n",
            "Others                    169\n",
            "Starchy Foods             148\n",
            "Breakfast                 110\n",
            "Seafood                    64\n",
            "Name: Item_Type, dtype: int64\n"
          ],
          "name": "stdout"
        },
        {
          "output_type": "display_data",
          "data": {
            "image/png": "[encoded data removed]",
            "text/plain": [
              "<Figure size 432x288 with 1 Axes>"
            ]
          },
          "metadata": {
            "tags": []
          }
        }
      ]
    },
    {
      "cell_type": "code",
      "metadata": {
        "id": "DtAG-MDmoi3n",
        "colab_type": "code",
        "colab": {}
      },
      "source": [
        "# Let's categorize 'Item_Type' into 'Non consumables', 'Drinks' and 'Foods' according to the 'Item_Identifier'\n",
        "def item_identify(cols):\n",
        "  item_id=cols[0]\n",
        "  item_type=cols[1]\n",
        "  \n",
        "  if item_id[:2] == 'NC':\n",
        "    return 'Non Consumables'\n",
        "  elif item_id[:2] == 'DR':\n",
        "    return 'Drinks'\n",
        "  else:\n",
        "    return 'Foods'"
      ],
      "execution_count": 0,
      "outputs": []
    },
    {
      "cell_type": "code",
      "metadata": {
        "id": "02dLOWnDnuJ6",
        "colab_type": "code",
        "colab": {}
      },
      "source": [
        "df1['Item_Type']=df1[['Item_Identifier','Item_Type']].apply(item_identify,axis=1)\n",
        "df2['Item_Type']=df2[['Item_Identifier','Item_Type']].apply(item_identify,axis=1)"
      ],
      "execution_count": 0,
      "outputs": []
    },
    {
      "cell_type": "code",
      "metadata": {
        "id": "meO8duRgrjBi",
        "colab_type": "code",
        "outputId": "308d59fe-a58e-4355-93c1-c383cb54f13d",
        "colab": {
          "base_uri": "https://localhost:8080/",
          "height": 388
        }
      },
      "source": [
        "df1['Item_Type'].value_counts()\n",
        "import numpy as np\n",
        "import matplotlib.pyplot as plt\n",
        "plt.bar(df1['Item_Type'].value_counts().index, df1['Item_Type'].value_counts(), width=0.5, bottom=None, align='center', data=df1)\n",
        "plt.title('Item_Type Distribution')\n",
        "#plt.xticks(rotation='vertical')\n",
        "plt.xlabel('Item_Type')\n",
        "plt.ylabel('Frequency')\n",
        "print('Item_Type:\\n',df1['Item_Type'].value_counts())"
      ],
      "execution_count": 12,
      "outputs": [
        {
          "output_type": "stream",
          "text": [
            "Item_Type:\n",
            " Foods              6125\n",
            "Non Consumables    1599\n",
            "Drinks              799\n",
            "Name: Item_Type, dtype: int64\n"
          ],
          "name": "stdout"
        },
        {
          "output_type": "display_data",
          "data": {
            "image/png": "[encoded data removed]",
            "text/plain": [
              "<Figure size 432x288 with 1 Axes>"
            ]
          },
          "metadata": {
            "tags": []
          }
        }
      ]
    },
    {
      "cell_type": "code",
      "metadata": {
        "id": "tP47jncxoLQW",
        "colab_type": "code",
        "outputId": "c4d7026d-ddb6-4f43-abe4-efe36f0a2fa6",
        "colab": {
          "base_uri": "https://localhost:8080/",
          "height": 425
        }
      },
      "source": [
        "import numpy as np\n",
        "import matplotlib.pyplot as plt\n",
        "plt.bar(df1['Item_Fat_Content'].value_counts().index, df1['Item_Fat_Content'].value_counts(), width=0.5, bottom=None, align='center', data=df1)\n",
        "plt.title('Item_Fat_Content Distribution')\n",
        "plt.xlabel('Item_Fat_Content')\n",
        "plt.ylabel('Frequency')\n",
        "print('Item_Fat_Content:\\n',df1['Item_Fat_Content'].value_counts())\n",
        "#df1['Item_Fat_Content'].value_counts()"
      ],
      "execution_count": 13,
      "outputs": [
        {
          "output_type": "stream",
          "text": [
            "Item_Fat_Content:\n",
            " Low Fat    5089\n",
            "Regular    2889\n",
            "LF          316\n",
            "reg         117\n",
            "low fat     112\n",
            "Name: Item_Fat_Content, dtype: int64\n"
          ],
          "name": "stdout"
        },
        {
          "output_type": "display_data",
          "data": {
            "image/png": "[encoded data removed]",
            "text/plain": [
              "<Figure size 432x288 with 1 Axes>"
            ]
          },
          "metadata": {
            "tags": []
          }
        }
      ]
    },
    {
      "cell_type": "code",
      "metadata": {
        "id": "STQtuaWUq1S_",
        "colab_type": "code",
        "colab": {}
      },
      "source": [
        "# From the above graph we can see that there are actually two classes in 'Item_Fat_Content'. But some of the items are non consumables.  \n",
        "def item_fat(cols):\n",
        "  fat=cols[0]\n",
        "  typ=cols[1]\n",
        "  \n",
        "  if (fat=='Low Fat' or fat=='LF' or fat=='low fat') and (typ=='Foods' or typ=='Drinks'):\n",
        "    return 'Low Fat'\n",
        "  elif (fat=='Regular' or fat=='reg') and (typ=='Foods' or typ=='Drinks'):\n",
        "    return 'Regular'\n",
        "  else:\n",
        "    return 'Non Edible'\n",
        "    "
      ],
      "execution_count": 0,
      "outputs": []
    },
    {
      "cell_type": "code",
      "metadata": {
        "id": "jJD1elSTrPLb",
        "colab_type": "code",
        "colab": {}
      },
      "source": [
        "df1['Item_Fat_Content']=df1[['Item_Fat_Content','Item_Type']].apply(item_fat,axis=1)\n",
        "df2['Item_Fat_Content']=df2[['Item_Fat_Content','Item_Type']].apply(item_fat,axis=1)"
      ],
      "execution_count": 0,
      "outputs": []
    },
    {
      "cell_type": "code",
      "metadata": {
        "id": "SZ1Gy63gsIL8",
        "colab_type": "code",
        "outputId": "392d9d79-2754-40e5-930d-1a7b8e0c80ae",
        "colab": {
          "base_uri": "https://localhost:8080/",
          "height": 388
        }
      },
      "source": [
        "import numpy as np\n",
        "import matplotlib.pyplot as plt\n",
        "plt.bar(df1['Item_Fat_Content'].unique(), df1['Item_Fat_Content'].value_counts(), width=0.5, bottom=None, align='center', data=df1)\n",
        "plt.title('Item_Fat_Content Distribution')\n",
        "plt.xlabel('Item_Fat_Content')\n",
        "plt.ylabel('Frequency')\n",
        "print('Item_Fat_Content:\\n',df1['Item_Fat_Content'].value_counts())"
      ],
      "execution_count": 16,
      "outputs": [
        {
          "output_type": "stream",
          "text": [
            "Item_Fat_Content:\n",
            " Low Fat       3918\n",
            "Regular       3006\n",
            "Non Edible    1599\n",
            "Name: Item_Fat_Content, dtype: int64\n"
          ],
          "name": "stdout"
        },
        {
          "output_type": "display_data",
          "data": {
            "image/png": "[encoded data removed]",
            "text/plain": [
              "<Figure size 432x288 with 1 Axes>"
            ]
          },
          "metadata": {
            "tags": []
          }
        }
      ]
    },
    {
      "cell_type": "code",
      "metadata": {
        "id": "V0x4-38rvnn3",
        "colab_type": "code",
        "outputId": "0d76a0a1-071a-4c75-8c8d-8710c7bc8f49",
        "colab": {
          "base_uri": "https://localhost:8080/",
          "height": 314
        }
      },
      "source": [
        "df1['Outlet_Size'].value_counts()\n",
        "import numpy as np\n",
        "import matplotlib.pyplot as plt\n",
        "plt.bar(df1['Outlet_Size'].value_counts().index, df1['Outlet_Size'].value_counts(), width=0.5, bottom=None, align='center', data=df1)\n",
        "plt.title('Outlet_Size')\n",
        "#plt.xticks(rotation='vertical')\n",
        "plt.xlabel('Outlet_Size')\n",
        "plt.ylabel('Frequency')"
      ],
      "execution_count": 17,
      "outputs": [
        {
          "output_type": "execute_result",
          "data": {
            "text/plain": [
              "Text(0, 0.5, 'Frequency')"
            ]
          },
          "metadata": {
            "tags": []
          },
          "execution_count": 17
        },
        {
          "output_type": "display_data",
          "data": {
            "image/png": "[encoded data removed]",
            "text/plain": [
              "<Figure size 432x288 with 1 Axes>"
            ]
          },
          "metadata": {
            "tags": []
          }
        }
      ]
    },
    {
      "cell_type": "code",
      "metadata": {
        "id": "eSv1S9lEtYDM",
        "colab_type": "code",
        "outputId": "c259d8af-bec4-431a-d053-f4c8ee50554f",
        "colab": {
          "base_uri": "https://localhost:8080/",
          "height": 314
        }
      },
      "source": [
        "df1['Outlet_Location_Type'].value_counts()\n",
        "import numpy as np\n",
        "import matplotlib.pyplot as plt\n",
        "plt.bar(df1['Outlet_Location_Type'].value_counts().index, df1['Outlet_Location_Type'].value_counts(), width=0.5, bottom=None, align='center', data=df1)\n",
        "plt.title('Outlet_Location_Type Distribution')\n",
        "#plt.xticks(rotation='vertical')\n",
        "plt.xlabel('Outlet_Location_Type')\n",
        "plt.ylabel('Frequency')"
      ],
      "execution_count": 18,
      "outputs": [
        {
          "output_type": "execute_result",
          "data": {
            "text/plain": [
              "Text(0, 0.5, 'Frequency')"
            ]
          },
          "metadata": {
            "tags": []
          },
          "execution_count": 18
        },
        {
          "output_type": "display_data",
          "data": {
            "image/png": "[encoded data removed]",
            "text/plain": [
              "<Figure size 432x288 with 1 Axes>"
            ]
          },
          "metadata": {
            "tags": []
          }
        }
      ]
    },
    {
      "cell_type": "code",
      "metadata": {
        "id": "ubaaqOJ3wMWc",
        "colab_type": "code",
        "outputId": "4d018b8b-60fc-4595-9121-5b0e7e5af039",
        "colab": {
          "base_uri": "https://localhost:8080/",
          "height": 403
        }
      },
      "source": [
        "df1['Outlet_Type'].value_counts()\n",
        "import numpy as np\n",
        "import matplotlib.pyplot as plt\n",
        "plt.bar(df1['Outlet_Type'].value_counts().index, df1['Outlet_Type'].value_counts(), width=0.5, bottom=None, align='center', data=df1)\n",
        "plt.title('Outlet_Type')\n",
        "plt.xticks(rotation='vertical')\n",
        "plt.xlabel('Outlet_Type')\n",
        "plt.ylabel('Frequency')"
      ],
      "execution_count": 19,
      "outputs": [
        {
          "output_type": "execute_result",
          "data": {
            "text/plain": [
              "Text(0, 0.5, 'Frequency')"
            ]
          },
          "metadata": {
            "tags": []
          },
          "execution_count": 19
        },
        {
          "output_type": "display_data",
          "data": {
            "image/png": "[encoded data removed]",
            "text/plain": [
              "<Figure size 432x288 with 1 Axes>"
            ]
          },
          "metadata": {
            "tags": []
          }
        }
      ]
    },
    {
      "cell_type": "code",
      "metadata": {
        "id": "kF8oGMm-z0TI",
        "colab_type": "code",
        "outputId": "151faf69-460c-4aa6-aa86-5aae7f63bfbe",
        "colab": {
          "base_uri": "https://localhost:8080/",
          "height": 90
        }
      },
      "source": [
        "df1['Item_Visibility'].value_counts().head(3)"
      ],
      "execution_count": 20,
      "outputs": [
        {
          "output_type": "execute_result",
          "data": {
            "text/plain": [
              "0.000000    526\n",
              "0.076975      3\n",
              "0.041283      2\n",
              "Name: Item_Visibility, dtype: int64"
            ]
          },
          "metadata": {
            "tags": []
          },
          "execution_count": 20
        }
      ]
    },
    {
      "cell_type": "code",
      "metadata": {
        "id": "pKzzDeC0xlei",
        "colab_type": "code",
        "colab": {}
      },
      "source": [
        "#The column 'Item_Visibility' has lots of 0 values. Let's fill this values with the mean value\n",
        "df1['Item_Visibility'].mask(df1['Item_Visibility']== 0,df1['Item_Visibility'].mean(),inplace=True)\n",
        "df2['Item_Visibility'].mask(df2['Item_Visibility']== 0,df2['Item_Visibility'].mean(),inplace=True)"
      ],
      "execution_count": 0,
      "outputs": []
    },
    {
      "cell_type": "code",
      "metadata": {
        "id": "olWdkDIR11WC",
        "colab_type": "code",
        "colab": {}
      },
      "source": [
        "#Let's add a new feature that would have the number of years the outlet has been in operation till 2013. (This dataset is from 2013). \n",
        "def num_years(col):\n",
        "  return 2013-col"
      ],
      "execution_count": 0,
      "outputs": []
    },
    {
      "cell_type": "code",
      "metadata": {
        "id": "3-A1COuw1-Hf",
        "colab_type": "code",
        "colab": {}
      },
      "source": [
        "df1['Years_of_Operation']=df1['Outlet_Establishment_Year'].apply(num_years)\n",
        "df2['Years_of_Operation']=df2['Outlet_Establishment_Year'].apply(num_years)"
      ],
      "execution_count": 0,
      "outputs": []
    },
    {
      "cell_type": "code",
      "metadata": {
        "id": "R9gV1tJmjPAZ",
        "colab_type": "code",
        "colab": {}
      },
      "source": [
        "# One hot encoding the categorical variables in both train and test set\n",
        "item_fat_content=pd.get_dummies(df1['Item_Fat_Content'])\n",
        "item_type=pd.get_dummies(df1['Item_Type'])\n",
        "outlet_size=pd.get_dummies(df1['Outlet_Size'])\n",
        "outlet_location_type=pd.get_dummies(df1['Outlet_Location_Type'])\n",
        "output_type=pd.get_dummies(df1['Outlet_Type'])\n",
        "\n",
        "item_fat_content_test=pd.get_dummies(df2['Item_Fat_Content'])\n",
        "item_type_test=pd.get_dummies(df2['Item_Type'])\n",
        "outlet_size_test=pd.get_dummies(df2['Outlet_Size'])\n",
        "outlet_location_type_test=pd.get_dummies(df2['Outlet_Location_Type'])\n",
        "output_type_test=pd.get_dummies(df2['Outlet_Type'])"
      ],
      "execution_count": 0,
      "outputs": []
    },
    {
      "cell_type": "code",
      "metadata": {
        "id": "sMgvsYcoopms",
        "colab_type": "code",
        "colab": {}
      },
      "source": [
        "train=df1\n",
        "train=pd.concat([train,item_fat_content,item_type,outlet_size,outlet_location_type,output_type],axis=1)\n",
        "train.drop(['Item_Identifier','Item_Fat_Content','Item_Type','Outlet_Identifier','Outlet_Establishment_Year','Outlet_Size', 'Outlet_Location_Type',\n",
        "       'Outlet_Type'],axis=1,inplace=True)\n",
        "test=df2\n",
        "test=pd.concat([test,item_fat_content_test,item_type_test,outlet_size_test,outlet_location_type_test,output_type_test],axis=1)\n",
        "test.drop(['Item_Identifier','Item_Fat_Content','Item_Type','Outlet_Identifier','Outlet_Establishment_Year','Outlet_Size', 'Outlet_Location_Type',\n",
        "       'Outlet_Type'],axis=1,inplace=True)"
      ],
      "execution_count": 0,
      "outputs": []
    },
    {
      "cell_type": "code",
      "metadata": {
        "id": "N8FW2ywRb2gv",
        "colab_type": "code",
        "colab": {}
      },
      "source": [
        "x=train.drop(['Item_Outlet_Sales'],axis=1)\n",
        "y=train['Item_Outlet_Sales']\n",
        "x_test=test"
      ],
      "execution_count": 0,
      "outputs": []
    },
    {
      "cell_type": "code",
      "metadata": {
        "id": "V0-tMNTgcjbt",
        "colab_type": "code",
        "colab": {}
      },
      "source": [
        "#Feature Scaling\n",
        "from sklearn.preprocessing import StandardScaler\n",
        "sc_x=StandardScaler()\n",
        "x=sc_x.fit_transform(x)\n",
        "\n",
        "x_test=sc_x.fit_transform(x_test)"
      ],
      "execution_count": 0,
      "outputs": []
    },
    {
      "cell_type": "code",
      "metadata": {
        "id": "XfYyuuW3eIUx",
        "colab_type": "code",
        "colab": {}
      },
      "source": [
        "from sklearn.model_selection import train_test_split\n",
        "x_train,x_val,y_train,y_val=train_test_split(x,y,test_size=0.1,random_state=42)"
      ],
      "execution_count": 0,
      "outputs": []
    },
    {
      "cell_type": "markdown",
      "metadata": {
        "id": "WdQNLUKBihZ6",
        "colab_type": "text"
      },
      "source": [
        "## **Linear Regression**"
      ]
    },
    {
      "cell_type": "code",
      "metadata": {
        "id": "8RxW9IpIeNbq",
        "colab_type": "code",
        "outputId": "c1833fde-a809-4727-c976-c9957da9557c",
        "colab": {
          "base_uri": "https://localhost:8080/",
          "height": 35
        }
      },
      "source": [
        "from sklearn.linear_model import LinearRegression\n",
        "lm=LinearRegression()\n",
        "lm.fit(x_train,y_train)"
      ],
      "execution_count": 0,
      "outputs": [
        {
          "output_type": "execute_result",
          "data": {
            "text/plain": [
              "LinearRegression(copy_X=True, fit_intercept=True, n_jobs=None, normalize=False)"
            ]
          },
          "metadata": {
            "tags": []
          },
          "execution_count": 221
        }
      ]
    },
    {
      "cell_type": "code",
      "metadata": {
        "id": "rWYXYx3pfp7i",
        "colab_type": "code",
        "colab": {}
      },
      "source": [
        "predictions=lm.predict(x_val)"
      ],
      "execution_count": 0,
      "outputs": []
    },
    {
      "cell_type": "code",
      "metadata": {
        "id": "wplXJCbnf0sM",
        "colab_type": "code",
        "outputId": "6f4774fa-2203-451e-ea3a-77dfca3c1737",
        "colab": {
          "base_uri": "https://localhost:8080/",
          "height": 341
        }
      },
      "source": [
        "plt.scatter(y_val,predictions)"
      ],
      "execution_count": 0,
      "outputs": [
        {
          "output_type": "execute_result",
          "data": {
            "text/plain": [
              "<matplotlib.collections.PathCollection at 0x7f71d324ae10>"
            ]
          },
          "metadata": {
            "tags": []
          },
          "execution_count": 223
        },
        {
          "output_type": "display_data",
          "data": {
            "image/png": "[encoded data removed]",
            "text/plain": [
              "<Figure size 360x360 with 1 Axes>"
            ]
          },
          "metadata": {
            "tags": []
          }
        }
      ]
    },
    {
      "cell_type": "code",
      "metadata": {
        "id": "2obISphof9j6",
        "colab_type": "code",
        "outputId": "e5400022-af7e-43cc-a729-7fe841a5981a",
        "colab": {
          "base_uri": "https://localhost:8080/",
          "height": 356
        }
      },
      "source": [
        "import seaborn as sns\n",
        "sns.distplot((y_val-predictions))"
      ],
      "execution_count": 0,
      "outputs": [
        {
          "output_type": "execute_result",
          "data": {
            "text/plain": [
              "<matplotlib.axes._subplots.AxesSubplot at 0x7f71d326f4e0>"
            ]
          },
          "metadata": {
            "tags": []
          },
          "execution_count": 224
        },
        {
          "output_type": "display_data",
          "data": {
            "image/png": "[encoded data removed]",
            "text/plain": [
              "<Figure size 360x360 with 1 Axes>"
            ]
          },
          "metadata": {
            "tags": []
          }
        }
      ]
    },
    {
      "cell_type": "code",
      "metadata": {
        "id": "sHX4v8rMgNpt",
        "colab_type": "code",
        "outputId": "786a9cb0-2d2b-4d7a-d5d8-eb8b6f9f0300",
        "colab": {
          "base_uri": "https://localhost:8080/",
          "height": 90
        }
      },
      "source": [
        "import numpy as np\n",
        "from sklearn import metrics\n",
        "print('Mean Absolute Error: ',metrics.mean_absolute_error(y_val,predictions))\n",
        "print('Mean Squared Error: ',metrics.mean_squared_error(y_val,predictions))\n",
        "print('Root Mean Squared Error: ',np.sqrt(metrics.mean_squared_error(y_val,predictions)))\n",
        "print('Explained Variance Score: ',metrics.explained_variance_score(y_val,predictions))"
      ],
      "execution_count": 0,
      "outputs": [
        {
          "output_type": "stream",
          "text": [
            "Mean Absolute Error:  805.161700156959\n",
            "Mean Squared Error:  1179555.069926781\n",
            "Root Mean Squared Error:  1086.0732341452767\n",
            "Explained Variance Score:  0.5781432231758533\n"
          ],
          "name": "stdout"
        }
      ]
    },
    {
      "cell_type": "markdown",
      "metadata": {
        "id": "fesPw1DJocIF",
        "colab_type": "text"
      },
      "source": [
        "## **Random Forest**"
      ]
    },
    {
      "cell_type": "code",
      "metadata": {
        "colab_type": "code",
        "outputId": "e3f55b0e-ee51-45c1-e745-a8e2eed802cf",
        "id": "TnlyidEVjimv",
        "colab": {
          "base_uri": "https://localhost:8080/",
          "height": 146
        }
      },
      "source": [
        "from sklearn.ensemble import RandomForestRegressor\n",
        "rf=RandomForestRegressor(n_estimators=400,max_depth=6, min_samples_leaf=76,n_jobs=4)\n",
        "rf.fit(x_train,y_train)"
      ],
      "execution_count": 82,
      "outputs": [
        {
          "output_type": "execute_result",
          "data": {
            "text/plain": [
              "RandomForestRegressor(bootstrap=True, criterion='mse', max_depth=6,\n",
              "                      max_features='auto', max_leaf_nodes=None,\n",
              "                      min_impurity_decrease=0.0, min_impurity_split=None,\n",
              "                      min_samples_leaf=76, min_samples_split=2,\n",
              "                      min_weight_fraction_leaf=0.0, n_estimators=400, n_jobs=4,\n",
              "                      oob_score=False, random_state=None, verbose=0,\n",
              "                      warm_start=False)"
            ]
          },
          "metadata": {
            "tags": []
          },
          "execution_count": 82
        }
      ]
    },
    {
      "cell_type": "code",
      "metadata": {
        "id": "-uiu-eMRjMBZ",
        "colab_type": "code",
        "colab": {}
      },
      "source": [
        "predictions1=rf.predict(x_val)"
      ],
      "execution_count": 0,
      "outputs": []
    },
    {
      "cell_type": "code",
      "metadata": {
        "id": "ubqRLkubjVcu",
        "colab_type": "code",
        "outputId": "16ea5010-a5c9-4b2d-9709-2f58fd0ee94e",
        "colab": {
          "base_uri": "https://localhost:8080/",
          "height": 287
        }
      },
      "source": [
        "plt.scatter(y_val,predictions1)"
      ],
      "execution_count": 84,
      "outputs": [
        {
          "output_type": "execute_result",
          "data": {
            "text/plain": [
              "<matplotlib.collections.PathCollection at 0x7ff17b145d30>"
            ]
          },
          "metadata": {
            "tags": []
          },
          "execution_count": 84
        },
        {
          "output_type": "display_data",
          "data": {
            "image/png": "[encoded data removed]",
            "text/plain": [
              "<Figure size 432x288 with 1 Axes>"
            ]
          },
          "metadata": {
            "tags": []
          }
        }
      ]
    },
    {
      "cell_type": "code",
      "metadata": {
        "id": "sajksrwTjYEj",
        "colab_type": "code",
        "outputId": "3874b916-fdc9-49c6-d211-dbf347424af8",
        "colab": {
          "base_uri": "https://localhost:8080/",
          "height": 302
        }
      },
      "source": [
        "import seaborn as sns\n",
        "sns.distplot((y_val-predictions1))"
      ],
      "execution_count": 85,
      "outputs": [
        {
          "output_type": "execute_result",
          "data": {
            "text/plain": [
              "<matplotlib.axes._subplots.AxesSubplot at 0x7ff17ad733c8>"
            ]
          },
          "metadata": {
            "tags": []
          },
          "execution_count": 85
        },
        {
          "output_type": "display_data",
          "data": {
            "image/png": "[encoded data removed]",
            "text/plain": [
              "<Figure size 432x288 with 1 Axes>"
            ]
          },
          "metadata": {
            "tags": []
          }
        }
      ]
    },
    {
      "cell_type": "code",
      "metadata": {
        "id": "xv-VrLlajc4X",
        "colab_type": "code",
        "outputId": "250da39f-5928-4390-8d58-8c2636e6b54f",
        "colab": {
          "base_uri": "https://localhost:8080/",
          "height": 90
        }
      },
      "source": [
        "import numpy as np\n",
        "from sklearn import metrics\n",
        "print('Mean Absolute Error: ',metrics.mean_absolute_error(y_val,predictions1))\n",
        "print('Mean Squared Error: ',metrics.mean_squared_error(y_val,predictions1))\n",
        "print('Root Mean Squared Error: ',np.sqrt(metrics.mean_squared_error(y_val,predictions1)))\n",
        "print('Explained Variance Score: ',metrics.explained_variance_score(y_val,predictions1))"
      ],
      "execution_count": 86,
      "outputs": [
        {
          "output_type": "stream",
          "text": [
            "Mean Absolute Error:  721.9482692470027\n",
            "Mean Squared Error:  1060359.6575380685\n",
            "Root Mean Squared Error:  1029.7376644262695\n",
            "Explained Variance Score:  0.6207417638502686\n"
          ],
          "name": "stdout"
        }
      ]
    },
    {
      "cell_type": "code",
      "metadata": {
        "id": "I1EeDnSe-zAN",
        "colab_type": "code",
        "colab": {
          "base_uri": "https://localhost:8080/",
          "height": 166
        },
        "outputId": "b9f63328-1742-49c0-8356-5e9600fd52aa"
      },
      "source": [
        "#Grid Search\n",
        "from sklearn.model_selection import GridSearchCV\n",
        "\n",
        "# Create the parameter grid based on the results of random search \n",
        "param_grid = {\n",
        "    #'bootstrap': [True],\n",
        "    #'max_depth': range(1,15,1),\n",
        "    #'min_samples_leaf': range(70,80,1),\n",
        "    #'min_samples_split': [8, 10, 12],\n",
        "    'n_estimators': range(100,500,100)\n",
        "}\n",
        "\n",
        "# Create a based model\n",
        "rf = RandomForestRegressor()\n",
        "\n",
        "# Instantiate the grid search model\n",
        "grid_search = GridSearchCV(estimator = rf, param_grid = param_grid, \n",
        "                          cv = 10, n_jobs = 4, verbose = 2,scoring='neg_mean_absolute_error')\n",
        "# Fit the grid search to the data\n",
        "grid_search.fit(x, y)\n",
        "\n",
        "grid_search.best_params_,grid_search.best_score_"
      ],
      "execution_count": 81,
      "outputs": [
        {
          "output_type": "stream",
          "text": [
            "Fitting 10 folds for each of 4 candidates, totalling 40 fits\n"
          ],
          "name": "stdout"
        },
        {
          "output_type": "stream",
          "text": [
            "[Parallel(n_jobs=4)]: Using backend LokyBackend with 4 concurrent workers.\n",
            "/usr/local/lib/python3.6/dist-packages/joblib/externals/loky/process_executor.py:706: UserWarning: A worker stopped while some jobs were given to the executor. This can be caused by a too short worker timeout or by a memory leak.\n",
            "  \"timeout or by a memory leak.\", UserWarning\n",
            "[Parallel(n_jobs=4)]: Done  33 tasks      | elapsed:  3.5min\n",
            "[Parallel(n_jobs=4)]: Done  40 out of  40 | elapsed:  4.4min finished\n"
          ],
          "name": "stderr"
        },
        {
          "output_type": "execute_result",
          "data": {
            "text/plain": [
              "({'n_estimators': 400}, -797.8347339432124)"
            ]
          },
          "metadata": {
            "tags": []
          },
          "execution_count": 81
        }
      ]
    },
    {
      "cell_type": "markdown",
      "metadata": {
        "id": "P7gRz-DT35T0",
        "colab_type": "text"
      },
      "source": [
        "## **XGBoost**"
      ]
    },
    {
      "cell_type": "code",
      "metadata": {
        "id": "brvTLx3doiVi",
        "colab_type": "code",
        "outputId": "0383efb7-d067-4e3e-f30d-33ab4d2a0a2c",
        "colab": {
          "base_uri": "https://localhost:8080/",
          "height": 219
        }
      },
      "source": [
        "import xgboost as xgb\n",
        "data_dmatrix = xgb.DMatrix(data=x,label=y)\n",
        "xg_reg = xgb.XGBRegressor(objective ='reg:squarederror', \n",
        "                          learning_rate =0.1,\n",
        "                          n_estimators=41,\n",
        "                          max_depth=3,\n",
        "                          min_child_weight=5,\n",
        "                          gamma=0,\n",
        "                          subsample=0.75,\n",
        "                          colsample_bytree=0.95,\n",
        "                          nthread=4,\n",
        "                          scale_pos_weight=1,\n",
        "                          reg_alpha=0.021,\n",
        "                          seed=42,\n",
        "                          )\n",
        "xg_reg.fit(x_train,y_train)"
      ],
      "execution_count": 0,
      "outputs": [
        {
          "output_type": "stream",
          "text": [
            "/usr/local/lib/python3.6/dist-packages/xgboost/core.py:587: FutureWarning: Series.base is deprecated and will be removed in a future version\n",
            "  if getattr(data, 'base', None) is not None and \\\n",
            "/usr/local/lib/python3.6/dist-packages/xgboost/core.py:588: FutureWarning: Series.base is deprecated and will be removed in a future version\n",
            "  data.base is not None and isinstance(data, np.ndarray) \\\n"
          ],
          "name": "stderr"
        },
        {
          "output_type": "execute_result",
          "data": {
            "text/plain": [
              "XGBRegressor(base_score=0.5, booster='gbtree', colsample_bylevel=1,\n",
              "             colsample_bynode=1, colsample_bytree=0.95, gamma=0,\n",
              "             importance_type='gain', learning_rate=0.1, max_delta_step=0,\n",
              "             max_depth=3, min_child_weight=5, missing=None, n_estimators=41,\n",
              "             n_jobs=1, nthread=4, objective='reg:squarederror', random_state=0,\n",
              "             reg_alpha=0.021, reg_lambda=1, scale_pos_weight=1, seed=42,\n",
              "             silent=None, subsample=0.75, verbosity=1)"
            ]
          },
          "metadata": {
            "tags": []
          },
          "execution_count": 330
        }
      ]
    },
    {
      "cell_type": "code",
      "metadata": {
        "id": "PvdvsF_tpJoq",
        "colab_type": "code",
        "colab": {}
      },
      "source": [
        "predictions2 = xg_reg.predict(x_val)"
      ],
      "execution_count": 0,
      "outputs": []
    },
    {
      "cell_type": "code",
      "metadata": {
        "id": "0wkc0Z6npVhM",
        "colab_type": "code",
        "outputId": "bfa160de-9836-41a5-a958-6a869a207a88",
        "colab": {
          "base_uri": "https://localhost:8080/",
          "height": 90
        }
      },
      "source": [
        "import numpy as np\n",
        "from sklearn import metrics\n",
        "print('Mean Absolute Error: ',metrics.mean_absolute_error(y_val,predictions2))\n",
        "print('Mean Squared Error: ',metrics.mean_squared_error(y_val,predictions2))\n",
        "print('Root Mean Squared Error: ',np.sqrt(metrics.mean_squared_error(y_val,predictions2)))\n",
        "print('Explained Variance Score: ',metrics.explained_variance_score(y_val,predictions2))"
      ],
      "execution_count": 0,
      "outputs": [
        {
          "output_type": "stream",
          "text": [
            "Mean Absolute Error:  720.3817910920656\n",
            "Mean Squared Error:  1059996.284783057\n",
            "Root Mean Squared Error:  1029.561209828273\n",
            "Explained Variance Score:  0.6210769021550897\n"
          ],
          "name": "stdout"
        }
      ]
    },
    {
      "cell_type": "markdown",
      "metadata": {
        "id": "LbJAc6w6i4H3",
        "colab_type": "text"
      },
      "source": [
        "### **Grid Search for best parameters**"
      ]
    },
    {
      "cell_type": "code",
      "metadata": {
        "id": "_MgFvi9cIWhL",
        "colab_type": "code",
        "outputId": "99237e7a-a8e6-4328-fc3d-07f5f5176d00",
        "colab": {
          "base_uri": "https://localhost:8080/",
          "height": 109
        }
      },
      "source": [
        "from sklearn.model_selection import GridSearchCV\n",
        "  \n",
        "#Tune max_depth and min_child_weight\n",
        "param_test1 = {\n",
        " 'max_depth':range(2,4,1),\n",
        " 'min_child_weight':range(3,6,1)\n",
        "}\n",
        "gsearch1 = GridSearchCV(estimator = xg_reg,\n",
        "                        param_grid = param_test1, \n",
        "                        scoring='neg_mean_absolute_error',\n",
        "                        n_jobs=4,iid=False, cv=10)\n",
        "gsearch1.fit(x,y)\n",
        "gsearch1.best_params_, gsearch1.best_score_"
      ],
      "execution_count": 0,
      "outputs": [
        {
          "output_type": "stream",
          "text": [
            "/usr/local/lib/python3.6/dist-packages/xgboost/core.py:587: FutureWarning: Series.base is deprecated and will be removed in a future version\n",
            "  if getattr(data, 'base', None) is not None and \\\n",
            "/usr/local/lib/python3.6/dist-packages/xgboost/core.py:588: FutureWarning: Series.base is deprecated and will be removed in a future version\n",
            "  data.base is not None and isinstance(data, np.ndarray) \\\n"
          ],
          "name": "stderr"
        },
        {
          "output_type": "execute_result",
          "data": {
            "text/plain": [
              "({'max_depth': 3, 'min_child_weight': 5}, -757.4700216462467)"
            ]
          },
          "metadata": {
            "tags": []
          },
          "execution_count": 289
        }
      ]
    },
    {
      "cell_type": "code",
      "metadata": {
        "id": "5fgEZB-wSQHt",
        "colab_type": "code",
        "outputId": "ad105312-3f61-43f9-a2dc-e43e875d4493",
        "colab": {
          "base_uri": "https://localhost:8080/",
          "height": 109
        }
      },
      "source": [
        "#Tuning Gamma\n",
        "param_test2 = {\n",
        " 'gamma':[i/10.0 for i in range(0,10)]\n",
        "}\n",
        "gsearch2 = GridSearchCV(estimator = xg_reg,\n",
        "                        param_grid = param_test2, \n",
        "                        scoring='neg_mean_absolute_error',\n",
        "                        n_jobs=4,iid=False, cv=10)\n",
        "\n",
        "gsearch2.fit(x,y)\n",
        "gsearch2.best_params_, gsearch2.best_score_"
      ],
      "execution_count": 0,
      "outputs": [
        {
          "output_type": "stream",
          "text": [
            "/usr/local/lib/python3.6/dist-packages/xgboost/core.py:587: FutureWarning: Series.base is deprecated and will be removed in a future version\n",
            "  if getattr(data, 'base', None) is not None and \\\n",
            "/usr/local/lib/python3.6/dist-packages/xgboost/core.py:588: FutureWarning: Series.base is deprecated and will be removed in a future version\n",
            "  data.base is not None and isinstance(data, np.ndarray) \\\n"
          ],
          "name": "stderr"
        },
        {
          "output_type": "execute_result",
          "data": {
            "text/plain": [
              "({'gamma': 0.0}, -757.4700216462467)"
            ]
          },
          "metadata": {
            "tags": []
          },
          "execution_count": 296
        }
      ]
    },
    {
      "cell_type": "code",
      "metadata": {
        "id": "bWp925s3W2aL",
        "colab_type": "code",
        "outputId": "6d938351-4425-4206-8536-c0c48a80853b",
        "colab": {
          "base_uri": "https://localhost:8080/",
          "height": 109
        }
      },
      "source": [
        "#Tune subsample and colsample_bytree\n",
        "param_test3 = {\n",
        " 'subsample':[i/100.0 for i in range(75,100,5)],\n",
        " 'colsample_bytree':[i/100.0 for i in range(75,100,5)]\n",
        "}\n",
        "\n",
        "gsearch3 = GridSearchCV(estimator = xg_reg,\n",
        "                        param_grid = param_test3, \n",
        "                        scoring='neg_mean_absolute_error',\n",
        "                        n_jobs=4,iid=False, cv=10)\n",
        "gsearch3.fit(x,y)\n",
        "gsearch3.best_params_, gsearch3.best_score_"
      ],
      "execution_count": 0,
      "outputs": [
        {
          "output_type": "stream",
          "text": [
            "/usr/local/lib/python3.6/dist-packages/xgboost/core.py:587: FutureWarning: Series.base is deprecated and will be removed in a future version\n",
            "  if getattr(data, 'base', None) is not None and \\\n",
            "/usr/local/lib/python3.6/dist-packages/xgboost/core.py:588: FutureWarning: Series.base is deprecated and will be removed in a future version\n",
            "  data.base is not None and isinstance(data, np.ndarray) \\\n"
          ],
          "name": "stderr"
        },
        {
          "output_type": "execute_result",
          "data": {
            "text/plain": [
              "({'colsample_bytree': 0.95, 'subsample': 0.75}, -757.0455675274022)"
            ]
          },
          "metadata": {
            "tags": []
          },
          "execution_count": 305
        }
      ]
    },
    {
      "cell_type": "code",
      "metadata": {
        "id": "6GXU8dJNcZW3",
        "colab_type": "code",
        "outputId": "a072a483-8c86-46db-e8cd-97ef2f9e2e1a",
        "colab": {
          "base_uri": "https://localhost:8080/",
          "height": 109
        }
      },
      "source": [
        "# Tuning Regularization Parameters\n",
        "param_test4 = {\n",
        " 'reg_alpha':[0.011,0.012,0.013,0.014,0.015,0.016,0.017,0.018,0.019,0.02,0.021,0.022,0.023,0.24,0.025,0.026]\n",
        "}\n",
        "gsearch4 = GridSearchCV(estimator = xg_reg,\n",
        "                        param_grid = param_test4, \n",
        "                        scoring='neg_mean_absolute_error',\n",
        "                        n_jobs=4,iid=False, cv=10)\n",
        "gsearch4.fit(x,y)\n",
        "gsearch4.best_params_, gsearch4.best_score_"
      ],
      "execution_count": 0,
      "outputs": [
        {
          "output_type": "stream",
          "text": [
            "/usr/local/lib/python3.6/dist-packages/xgboost/core.py:587: FutureWarning: Series.base is deprecated and will be removed in a future version\n",
            "  if getattr(data, 'base', None) is not None and \\\n",
            "/usr/local/lib/python3.6/dist-packages/xgboost/core.py:588: FutureWarning: Series.base is deprecated and will be removed in a future version\n",
            "  data.base is not None and isinstance(data, np.ndarray) \\\n"
          ],
          "name": "stderr"
        },
        {
          "output_type": "execute_result",
          "data": {
            "text/plain": [
              "({'reg_alpha': 0.021}, -755.5158996159646)"
            ]
          },
          "metadata": {
            "tags": []
          },
          "execution_count": 329
        }
      ]
    },
    {
      "cell_type": "code",
      "metadata": {
        "id": "640MZDzheD69",
        "colab_type": "code",
        "outputId": "56d750ef-453f-44b5-cbce-c521b56b60af",
        "colab": {
          "base_uri": "https://localhost:8080/",
          "height": 109
        }
      },
      "source": [
        "# Tuning No. of trees\n",
        "param_test5 = {\n",
        " 'n_estimators':range(30,50,1)\n",
        "}\n",
        "gsearch5 = GridSearchCV(estimator = xg_reg,\n",
        "                        param_grid = param_test5, \n",
        "                        scoring='neg_mean_absolute_error',\n",
        "                        n_jobs=4,iid=False, cv=10)\n",
        "gsearch5.fit(x,y)\n",
        "gsearch5.best_params_, gsearch5.best_score_"
      ],
      "execution_count": 0,
      "outputs": [
        {
          "output_type": "stream",
          "text": [
            "/usr/local/lib/python3.6/dist-packages/xgboost/core.py:587: FutureWarning: Series.base is deprecated and will be removed in a future version\n",
            "  if getattr(data, 'base', None) is not None and \\\n",
            "/usr/local/lib/python3.6/dist-packages/xgboost/core.py:588: FutureWarning: Series.base is deprecated and will be removed in a future version\n",
            "  data.base is not None and isinstance(data, np.ndarray) \\\n"
          ],
          "name": "stderr"
        },
        {
          "output_type": "execute_result",
          "data": {
            "text/plain": [
              "({'n_estimators': 41}, -755.5159016995146)"
            ]
          },
          "metadata": {
            "tags": []
          },
          "execution_count": 321
        }
      ]
    },
    {
      "cell_type": "code",
      "metadata": {
        "id": "fkAZWNvlsp7F",
        "colab_type": "code",
        "outputId": "7102a5c5-1d02-4b38-bc5c-ae8253bfb359",
        "colab": {
          "base_uri": "https://localhost:8080/",
          "height": 350
        }
      },
      "source": [
        "xgb.plot_importance(xg_reg)\n",
        "plt.rcParams['figure.figsize'] = [5, 5]\n",
        "plt.show()"
      ],
      "execution_count": 0,
      "outputs": [
        {
          "output_type": "display_data",
          "data": {
            "image/png": "[encoded data removed]",
            "text/plain": [
              "<Figure size 360x360 with 1 Axes>"
            ]
          },
          "metadata": {
            "tags": []
          }
        }
      ]
    },
    {
      "cell_type": "code",
      "metadata": {
        "id": "500Y0uuckLdn",
        "colab_type": "code",
        "colab": {}
      },
      "source": [
        "#Generating the Sales for the Test set and saving in a .csv file\n",
        "pred_test = xg_reg.predict(x_test)\n",
        "out_df = pd.DataFrame({'Item_Identifier':df2['Item_Identifier'].values,'Outlet_Identifier':df2['Outlet_Identifier'].values})\n",
        "out_df['Item_Outlet_Sales'] = pred_test\n",
        "out_df.to_csv('submission.csv', index=False)"
      ],
      "execution_count": 0,
      "outputs": []
    }
  ]
}